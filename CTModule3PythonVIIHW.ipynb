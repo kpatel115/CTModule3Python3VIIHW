{
 "cells": [
  {
   "cell_type": "markdown",
   "metadata": {},
   "source": [
    "# Exercises"
   ]
  },
  {
   "cell_type": "markdown",
   "metadata": {},
   "source": [
    "### Exercise #1 <br>\n",
    "<p>Reverse the list below in-place using an in-place algorithm.<br>For extra credit: Reverse the strings at the same time.</p>"
   ]
  },
  {
   "cell_type": "code",
   "execution_count": null,
   "metadata": {},
   "outputs": [],
   "source": [
    "words = ['this' , 'is', 'a', 'sentence', '.']\n",
    "def swap(x, y,alist):\n",
    "    alist[x], alist[y] = alist[y], alist[x]\n",
    "\n",
    "def bubbleSort(alist):\n",
    "    isSorted = False\n",
    "    while not isSorted\n",
    "        isSorted = True\n",
    "        for num in range(len(alist) - 1):\n",
    "            if alist[num] > alist[num + 1]:\n",
    "                swap(num, num + 1, alist)\n",
    "                isSorted = False\n",
    "    return alist\n",
    "\n",
    "bubbleSort(words)\n"
   ]
  },
  {
   "cell_type": "markdown",
   "metadata": {},
   "source": [
    "### Exercise #2 <br>\n",
    "<p>Create a function that counts how many distinct words are in the string below, then outputs a dictionary with the words as the key and the value as the amount of times that word appears in the string.<br>Should output:<br>{'a': 5,<br>\n",
    " 'abstract': 1,<br>\n",
    " 'an': 3,<br>\n",
    " 'array': 2, ... etc...</p>"
   ]
  },
  {
   "cell_type": "code",
   "execution_count": null,
   "metadata": {},
   "outputs": [],
   "source": [
    "a_text = 'In computing, a hash table hash map is a data structure which implements an associative array abstract data type, a structure that can map keys to values. A hash table uses a hash function to compute an index into an array of buckets or slots from which the desired value can be found'\n",
    "\n",
    "def bubble_sort(arr):\n",
    "    n = len(arr)\n",
    "    for i in range(n-1):\n",
    "        for j in range(0, n-i-1):\n",
    "            if arr[j] > arr[j+1]:\n",
    "                arr[j], arr[j+1] = arr[j+1], arr[j]\n",
    "\n",
    "def count_words_and_sort(input_string, sorting_algorithm):\n",
    "    words = input_string.split()\n",
    "    distinct_words = set(words)\n",
    "    word_count = {}\n",
    "\n",
    "    for word in distinct_words:\n",
    "        word_count[word] = words.count(word)\n",
    "\n",
    "    keys = list(word_count.keys())\n",
    "    sorting_algorithm(keys)\n",
    "\n",
    "    sorted_word_count = {}\n",
    "    for key in keys:\n",
    "        sorted_word_count[key] = word_count[key]\n",
    "\n",
    "    return sorted_word_count\n",
    "\n",
    "sorted_word_count = count_words_and_sort(a_text, bubble_sort)\n",
    "print(sorted_word_count)"
   ]
  },
  {
   "cell_type": "markdown",
   "metadata": {},
   "source": [
    "## Exercise #3\n",
    "\n",
    "Write a program to implement a Linear Search Algorithm. Also in a comment, write the Time Complexity of the following algorithm.\n",
    "\n",
    "#### Hint: Linear Searching will require searching a list for a given number. "
   ]
  },
  {
   "cell_type": "code",
   "execution_count": null,
   "metadata": {},
   "outputs": [],
   "source": [
    "def binarySearchHelper(array, target, left, right):\n",
    "    while left <= right:\n",
    "        middle = (left + right) //2\n",
    "        potentialMatch = array[middle]\n",
    "        if target == potentialMatch:\n",
    "            return f\"the index is: {middle}\"\n",
    "        elif target < potentialMatch:\n",
    "            right = middle\n",
    "        else:\n",
    "            left = middle + 1\n",
    "    return -1\n",
    "def binarySearch(array, target):\n",
    "    return binarySearchHelper(array, target, 0, len(array) -1)\n",
    "\n",
    "arr_list = [12, 43, 76, 98, 100, 101]\n",
    "target_el = 100\n",
    "\n",
    "binarySearch(arr_list, target_el)\n",
    "# Time Complexity - O(log n)"
   ]
  }
 ],
 "metadata": {
  "kernelspec": {
   "display_name": "Python 3",
   "language": "python",
   "name": "python3"
  },
  "language_info": {
   "codemirror_mode": {
    "name": "ipython",
    "version": 3
   },
   "file_extension": ".py",
   "mimetype": "text/x-python",
   "name": "python",
   "nbconvert_exporter": "python",
   "pygments_lexer": "ipython3",
   "version": "3.7.6"
  }
 },
 "nbformat": 4,
 "nbformat_minor": 2
}
